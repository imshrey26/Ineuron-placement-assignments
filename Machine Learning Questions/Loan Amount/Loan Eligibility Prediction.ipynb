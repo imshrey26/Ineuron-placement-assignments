{
 "cells": [
  {
   "cell_type": "markdown",
   "metadata": {},
   "source": [
    "## Problem Statement :-\n",
    "\n",
    "### Question-6 :-\n",
    "\n",
    "Imagine you have a dataset where you have predicted loan Eligibility using any\n",
    "4 different classification algorithms. Now you have to build a model which can\n",
    "predict loan Eligibility and you need to find the accuracy of the model and built-in\n",
    "docker and use some library to display that in frontend\n",
    "\n",
    "Dataset :- Dataset is not avalable for this question\n",
    "\n"
   ]
  },
  {
   "cell_type": "code",
   "execution_count": null,
   "metadata": {},
   "outputs": [],
   "source": []
  },
  {
   "cell_type": "markdown",
   "metadata": {},
   "source": [
    "# NOTE :- \n",
    "### Dataset link is not Available for this question, due to Private DataSource Mode is Enable,\n",
    "#### So, Can't Able to solve this Problem"
   ]
  },
  {
   "cell_type": "code",
   "execution_count": null,
   "metadata": {},
   "outputs": [],
   "source": []
  },
  {
   "cell_type": "markdown",
   "metadata": {},
   "source": [
    "# Thank You"
   ]
  }
 ],
 "metadata": {
  "kernelspec": {
   "display_name": "Python 3",
   "language": "python",
   "name": "python3"
  },
  "language_info": {
   "codemirror_mode": {
    "name": "ipython",
    "version": 3
   },
   "file_extension": ".py",
   "mimetype": "text/x-python",
   "name": "python",
   "nbconvert_exporter": "python",
   "pygments_lexer": "ipython3",
   "version": "3.8.5"
  }
 },
 "nbformat": 4,
 "nbformat_minor": 5
}
