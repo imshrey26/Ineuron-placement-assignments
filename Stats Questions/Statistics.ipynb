{
 "cells": [
  {
   "cell_type": "markdown",
   "id": "136f5358-7f58-4624-a816-b7a30d3b9155",
   "metadata": {},
   "source": [
    "### Q1:\n",
    "A university wants to understand the relationship between the SAT scores of its\n",
    "applicants and their college GPA. They collect data on 500 students, including their SAT\n",
    "scores (out of 1600) and their college GPA (on a 4.0 scale). They find that the correlation\n",
    "coefficient between SAT scores and college GPA is 0.7. What does this correlation\n",
    "coefficient indicate about the relationship between SAT scores and college GPA?"
   ]
  },
  {
   "cell_type": "markdown",
   "id": "0fdc2018-e57d-44dc-9c39-ee5ee282badd",
   "metadata": {},
   "source": [
    "#### Solution 1:\n",
    "- Positive correlation suggests that SAT scores are directly related to college GPA of students\n",
    "- Correlation coefficient of 0.7 suggests that there is a strong positive relationship between SAT scores and college GPA. As SAT scores increase, there is a tendency for college GPA to also increase. This positive correlation indicates that students with higher SAT scores are more likely to have higher college GPAs, and students with lower GPA scores might have lower GPA"
   ]
  },
  {
   "cell_type": "markdown",
   "id": "4d11ec8a-7502-4ad2-ada4-17afaf190d6f",
   "metadata": {},
   "source": [
    "### Q2:\n",
    "Consider a dataset containing the heights (in centimeters) of 1000 individuals. The\n",
    "mean height is 170 cm with a standard deviation of 10 cm. The dataset is approximately\n",
    "normally distributed, and its skewness is approximately zero. Based on this information,\n",
    "answer the following questions:\n",
    "- a. What percentage of individuals in the dataset have heights between 160 cm\n",
    "     and 180 cm?\n",
    "- b. If we randomly select 100 individuals from the dataset, what is the probability\n",
    "     that their average height is greater than 175 cm?\n",
    "- c. Assuming the dataset follows a normal distribution, what is the z-score\n",
    "    corresponding to a height of 185 cm?\n",
    "- d. We know that 5% of the dataset has heights below a certain value. What is\n",
    "    the approximate height corresponding to this threshold?\n",
    "- e. Calculate the coefficient of variation (CV) for the dataset.\n",
    "- f. Calculate the skewness of the dataset and interpret the result."
   ]
  },
  {
   "cell_type": "markdown",
   "id": "1f5963f1-ce36-4f71-b279-b643679056d4",
   "metadata": {},
   "source": [
    "#### Solution 2.a:\n",
    "Given: mean = 170, SD = 10, x1 = 160, x2=180\n",
    "\n",
    "z1 = (160 cm - mean) / SD\n",
    "z2 = (180 cm - mean) / SD\n",
    "\n",
    "Substituting the given values:\n",
    "\n",
    "z1 = (160 - 170) / 10 = -1\n",
    "z2 = (180 - 170) / 10 = 1\n",
    "\n",
    "Area covered till z = -1 (from left side of curve) = P(X < -1) ≈ 0.1587\n",
    "Area covered till z = -1 (from left side of curve) = P(X < 1) ≈ 0.8413\n",
    "\n",
    "P(160 cm < X < 180 cm) ≈ 0.8413 - 0.1587 = 0.6826\n",
    "\n",
    "Approximately 68.26% of individuals in the dataset have heights between 160 cm and 180 cm."
   ]
  },
  {
   "cell_type": "markdown",
   "id": "4af87d1f-d605-4c45-ab2e-d886c01c6efa",
   "metadata": {},
   "source": [
    "#### Solution 2.b:\n",
    "\n",
    "Using Central Limit Theorem:\n",
    "\n",
    "- The average height of 100 individuals selected randomly from the dataset follows a normal distribution with a mean equal to the population mean (170 cm) \n",
    "\n",
    "- Standard deviation equal to the population standard deviation divided by the square root of the sample size (10 cm / √100 = 1 cm).\n",
    "\n",
    "- To calculate the probability that the average height is greater than 175 cm, we can calculate the z-score corresponding to 175 cm:\n",
    "\n",
    "z = (175 cm - mean) / (standard deviation / √n)\n",
    "= (175 - 170) / (10 / √100)\n",
    "= 5 / 1 = 5\n",
    "\n",
    "P(X > 175 cm) = 1 - P(X < 175 cm)\n",
    "= 1 - P(Z < 5)\n",
    "≈ 1 - 1\n",
    "= 0\n",
    "\n",
    "Therefore, the probability that the average height of the randomly selected 100 individuals is greater than 175 cm is approximately 0."
   ]
  },
  {
   "cell_type": "markdown",
   "id": "ae8ec290-5816-4142-8d39-3af2167b26aa",
   "metadata": {},
   "source": [
    "#### Solution 2.c:\n",
    "\n",
    "x = 185 cm\n",
    "mean = 170 cm\n",
    "SD = 10\n",
    "\n",
    "z = (x - mean) / SD\n",
    "\n",
    "z = (185 cm - 170 cm) / 10 cm = 1.5\n",
    "\n",
    "z-score corresponding to a height of 185 cm is  1.5"
   ]
  },
  {
   "cell_type": "markdown",
   "id": "28591887-e89c-444d-bc0e-1690623563fc",
   "metadata": {},
   "source": [
    "#### Solution 2.d:\n",
    "\n",
    "- 5% of the dataset has heights below a certain value. This corresponds to the area to the left of the z-score that captures the 5% probability\n",
    "\n",
    "\n",
    "p = 0.05 (area from left side) \n",
    "\n",
    "For p = 0.05, z = -1.645 (from left side of mean)\n",
    "\n",
    "P(Z < z_threshold) = 0.05\n",
    "\n",
    "From the standard normal distribution table, we can find the z-score that corresponds to a cumulative probability of 0.05, which is approximately -1.645.\n",
    "\n",
    "Now, we can use the z-score formula to find the height corresponding to this z-score:\n",
    "\n",
    "z_threshold = (x_threshold - mean) / SD\n",
    "\n",
    "Substituting the given values:\n",
    "\n",
    "-1.645 = (x_threshold - 170 cm) / 10 cm\n",
    "\n",
    "Solving for x_threshold:\n",
    "\n",
    "x_threshold - 170 cm = -1.645 * 10 cm\n",
    "x_threshold - 170 cm = -16.45 cm\n",
    "x_threshold ≈ 170 cm - 16.45 cm ≈ 153.55 cm\n",
    "\n",
    "Therefore, the approximate height corresponding to the threshold below which 5% of the dataset lies is approximately 153.55 cm.\n"
   ]
  },
  {
   "cell_type": "markdown",
   "id": "e4e06425-6651-4951-b9a8-d6020ca830d4",
   "metadata": {},
   "source": [
    "### Solution 2.e:\n",
    "\n",
    "The coefficient of variation (CV) is a measure of relative variability and is calculated as the ratio of the standard deviation to the mean, expressed as a percentage.\n",
    "\n",
    "CV = (standard deviation / mean) * 100\n",
    "\n",
    "Substituting the given values:\n",
    "\n",
    "CV = (10 cm / 170 cm) * 100\n",
    "= 5.882%"
   ]
  },
  {
   "cell_type": "markdown",
   "id": "204d4987-b1c8-4eed-8716-e5520ae5780e",
   "metadata": {},
   "source": [
    "### Solution 2.e:\n",
    "\n",
    "The coefficient of variation (CV) is a measure of relative variability and is calculated as the ratio of the standard deviation to the mean, expressed as a percentage.\n",
    "\n",
    "CV = (standard deviation / mean) * 100\n",
    "\n",
    "Substituting the given values:\n",
    "\n",
    "CV = (10 cm / 170 cm) * 100\n",
    "= 5.882%"
   ]
  },
  {
   "cell_type": "markdown",
   "id": "851445f2-567f-4a50-8a10-e05d8701f670",
   "metadata": {},
   "source": [
    "### Solution 2.f: \n",
    "The skewness of a dataset measures the asymmetry of its distribution. A skewness value close to zero indicates that the distribution is approximately symmetrical.\n",
    "\n",
    "Given that the skewness of the dataset is approximately zero, it suggests that the heights of the individuals follow a roughly symmetrical distribution. This means that the dataset is balanced and does not have a significant tendency towards being skewed to the left or right."
   ]
  },
  {
   "cell_type": "markdown",
   "id": "f6b66b90-d342-459c-aed4-db0694788dee",
   "metadata": {},
   "source": [
    "Q-3. Consider the ‘Blood Pressure Before’ and ‘Blood Pressure After’ columns from the\n",
    "data and calculate the following\n",
    "\n",
    "https://drive.google.com/file/d/1mCjtYHiX--mMUjicuaP2gH3k-SnFxt8Y/view?usp=share_\n",
    "- a. Measure the dispersion in both and interpret the results.\n",
    "- b. Calculate mean and 5% confidence interval and plot it in a graph\n",
    "- c. Calculate the Mean absolute deviation and Standard deviation and interpret\n",
    "    the results.\n",
    "- d. Calculate the correlation coefficient and check the significance of it at 1% level\n",
    "    of significance."
   ]
  },
  {
   "cell_type": "code",
   "execution_count": 1,
   "id": "28e8235a-8405-4e30-9c27-0075a4089462",
   "metadata": {},
   "outputs": [],
   "source": [
    "import pandas as pd\n",
    "\n",
    "df = pd.read_csv('data.csv')"
   ]
  },
  {
   "cell_type": "code",
   "execution_count": 2,
   "id": "fc1fc87a-4df9-4729-892e-80e5b23aff43",
   "metadata": {},
   "outputs": [
    {
     "data": {
      "text/html": [
       "<div>\n",
       "<style scoped>\n",
       "    .dataframe tbody tr th:only-of-type {\n",
       "        vertical-align: middle;\n",
       "    }\n",
       "\n",
       "    .dataframe tbody tr th {\n",
       "        vertical-align: top;\n",
       "    }\n",
       "\n",
       "    .dataframe thead th {\n",
       "        text-align: right;\n",
       "    }\n",
       "</style>\n",
       "<table border=\"1\" class=\"dataframe\">\n",
       "  <thead>\n",
       "    <tr style=\"text-align: right;\">\n",
       "      <th></th>\n",
       "      <th>Patient ID</th>\n",
       "      <th>Blood Pressure Before (mmHg)</th>\n",
       "      <th>Blood Pressure After (mmHg)</th>\n",
       "    </tr>\n",
       "  </thead>\n",
       "  <tbody>\n",
       "    <tr>\n",
       "      <th>0</th>\n",
       "      <td>1</td>\n",
       "      <td>130</td>\n",
       "      <td>120</td>\n",
       "    </tr>\n",
       "    <tr>\n",
       "      <th>1</th>\n",
       "      <td>2</td>\n",
       "      <td>142</td>\n",
       "      <td>135</td>\n",
       "    </tr>\n",
       "    <tr>\n",
       "      <th>2</th>\n",
       "      <td>3</td>\n",
       "      <td>120</td>\n",
       "      <td>118</td>\n",
       "    </tr>\n",
       "    <tr>\n",
       "      <th>3</th>\n",
       "      <td>4</td>\n",
       "      <td>135</td>\n",
       "      <td>127</td>\n",
       "    </tr>\n",
       "    <tr>\n",
       "      <th>4</th>\n",
       "      <td>5</td>\n",
       "      <td>148</td>\n",
       "      <td>140</td>\n",
       "    </tr>\n",
       "  </tbody>\n",
       "</table>\n",
       "</div>"
      ],
      "text/plain": [
       "   Patient ID   Blood Pressure Before (mmHg)   Blood Pressure After (mmHg)\n",
       "0           1                            130                           120\n",
       "1           2                            142                           135\n",
       "2           3                            120                           118\n",
       "3           4                            135                           127\n",
       "4           5                            148                           140"
      ]
     },
     "execution_count": 2,
     "metadata": {},
     "output_type": "execute_result"
    }
   ],
   "source": [
    "df.head()"
   ]
  },
  {
   "cell_type": "code",
   "execution_count": 3,
   "id": "8ce1732b-ea50-48c2-997a-77366f15b8d7",
   "metadata": {},
   "outputs": [],
   "source": [
    "df.rename(columns={' Blood Pressure Before (mmHg)': 'BP Before', ' Blood Pressure After (mmHg)': 'BP After'}, inplace=True)"
   ]
  },
  {
   "cell_type": "code",
   "execution_count": 4,
   "id": "7f9ec6aa-d1b6-40b1-86b6-84d08440af20",
   "metadata": {},
   "outputs": [
    {
     "name": "stdout",
     "output_type": "stream",
     "text": [
      "<class 'pandas.core.frame.DataFrame'>\n",
      "RangeIndex: 100 entries, 0 to 99\n",
      "Data columns (total 3 columns):\n",
      " #   Column      Non-Null Count  Dtype\n",
      "---  ------      --------------  -----\n",
      " 0   Patient ID  100 non-null    int64\n",
      " 1   BP Before   100 non-null    int64\n",
      " 2   BP After    100 non-null    int64\n",
      "dtypes: int64(3)\n",
      "memory usage: 2.5 KB\n"
     ]
    }
   ],
   "source": [
    "df.info()"
   ]
  },
  {
   "cell_type": "markdown",
   "id": "d844b143-1655-4d5f-b81d-f56262093c65",
   "metadata": {},
   "source": [
    "#### Sol 3.a: Measure of dispersion\n",
    "\n",
    "\n"
   ]
  },
  {
   "cell_type": "code",
   "execution_count": 5,
   "id": "e66d3f54-3725-452f-a81e-d9949d66e333",
   "metadata": {},
   "outputs": [
    {
     "data": {
      "text/plain": [
       "28"
      ]
     },
     "execution_count": 5,
     "metadata": {},
     "output_type": "execute_result"
    }
   ],
   "source": [
    "# 1. Range\n",
    "\n",
    "# Range for Blood Pressure Before (mmHg)\n",
    "\n",
    "max(df['BP Before']) - min(df['BP Before'])"
   ]
  },
  {
   "cell_type": "code",
   "execution_count": 6,
   "id": "867780e6-7e5f-4f91-8cfd-ab37d685bfa3",
   "metadata": {},
   "outputs": [
    {
     "data": {
      "text/plain": [
       "23"
      ]
     },
     "execution_count": 6,
     "metadata": {},
     "output_type": "execute_result"
    }
   ],
   "source": [
    "# Range for Blood Pressure After (mmHg)\n",
    "max(df['BP After']) - min(df['BP After'])"
   ]
  },
  {
   "cell_type": "markdown",
   "id": "2ba6b77e-6c1a-413a-98cb-b6485874a8c3",
   "metadata": {},
   "source": [
    "Range of blood pressure after is less, implying lesser spread as compared to before"
   ]
  },
  {
   "cell_type": "code",
   "execution_count": 7,
   "id": "d6eb068a-cd14-41bc-9e2e-16fd99670883",
   "metadata": {},
   "outputs": [
    {
     "name": "stdout",
     "output_type": "stream",
     "text": [
      "Variance of BP Before: 43.53727272727271\n"
     ]
    }
   ],
   "source": [
    "# 2. Variance\n",
    "\n",
    "var_before = df['BP Before'].var()\n",
    "print(\"Variance of BP Before:\", var_before)"
   ]
  },
  {
   "cell_type": "code",
   "execution_count": 8,
   "id": "5e0b2c39-a46b-443f-adc5-60254a7989a8",
   "metadata": {},
   "outputs": [
    {
     "name": "stdout",
     "output_type": "stream",
     "text": [
      "Variance of BP After: 47.4448484848485\n"
     ]
    }
   ],
   "source": [
    "var_after = df['BP After'].var()\n",
    "print(\"Variance of BP After:\", var_after)"
   ]
  },
  {
   "cell_type": "code",
   "execution_count": 9,
   "id": "e20abf3a-c7d4-4391-821e-a65351403b47",
   "metadata": {},
   "outputs": [
    {
     "name": "stdout",
     "output_type": "stream",
     "text": [
      "Standard Deviation of BP Before: 6.598278012275075\n"
     ]
    }
   ],
   "source": [
    "# 3. Standard Deviation\n",
    "\n",
    "std_before = df['BP Before'].std()\n",
    "print(\"Standard Deviation of BP Before:\", std_before)"
   ]
  },
  {
   "cell_type": "code",
   "execution_count": 10,
   "id": "e4d072d1-b78b-4a6f-aa8c-dfcadcd2ba13",
   "metadata": {},
   "outputs": [
    {
     "name": "stdout",
     "output_type": "stream",
     "text": [
      "Standard Deviation of BP After: 6.8880221025232276\n"
     ]
    }
   ],
   "source": [
    "\n",
    "std_after = df['BP After'].std()\n",
    "print(\"Standard Deviation of BP After:\", std_after)"
   ]
  },
  {
   "cell_type": "code",
   "execution_count": 11,
   "id": "b7603fd9-a210-4670-ae74-9c47368382e2",
   "metadata": {},
   "outputs": [],
   "source": [
    "df.rename(columns={' Blood Pressure Before (mmHg)': 'BP Before', ' Blood Pressure After (mmHg)': 'BP After'}, inplace=True)"
   ]
  },
  {
   "cell_type": "code",
   "execution_count": 12,
   "id": "8ffabee8-bc22-477c-854d-5e96535886bb",
   "metadata": {},
   "outputs": [
    {
     "name": "stderr",
     "output_type": "stream",
     "text": [
      "/tmp/ipykernel_217/1538697113.py:7: FutureWarning: \n",
      "\n",
      "`shade` is now deprecated in favor of `fill`; setting `fill=True`.\n",
      "This will become an error in seaborn v0.14.0; please update your code.\n",
      "\n",
      "  sns.kdeplot(data=df, x='BP Before', shade=True,ax=axes[0])\n",
      "/tmp/ipykernel_217/1538697113.py:10: FutureWarning: \n",
      "\n",
      "`shade` is now deprecated in favor of `fill`; setting `fill=True`.\n",
      "This will become an error in seaborn v0.14.0; please update your code.\n",
      "\n",
      "  sns.kdeplot(data=df, x='BP After',shade=True, ax=axes[1])\n"
     ]
    },
    {
     "data": {
      "image/png": "[encoded data removed]",
      "text/plain": [
       "<Figure size 1200x600 with 2 Axes>"
      ]
     },
     "metadata": {},
     "output_type": "display_data"
    }
   ],
   "source": [
    "import seaborn as sns\n",
    "import matplotlib.pyplot as plt\n",
    "\n",
    "fig, axes = plt.subplots(1, 2, figsize=(12, 6))\n",
    "\n",
    "axes[0].set_title('Blood Pressure Before')\n",
    "sns.kdeplot(data=df, x='BP Before', shade=True,ax=axes[0])\n",
    "\n",
    "axes[1].set_title('Blood Pressure After')\n",
    "sns.kdeplot(data=df, x='BP After',shade=True, ax=axes[1])\n",
    "\n",
    "fig.suptitle('Distribution of Blood Pressure Before and After', fontsize=16)\n",
    "plt.tight_layout()\n",
    "plt.show()"
   ]
  },
  {
   "cell_type": "markdown",
   "id": "afc0088c-3f4a-4d3e-8fd9-f1c41a523700",
   "metadata": {},
   "source": [
    "#### Sol 3.b: Calculate mean and 5% confidence interval and plot it in a graph"
   ]
  },
  {
   "cell_type": "code",
   "execution_count": 13,
   "id": "04763198-5be6-4b55-935e-cff696e69fdf",
   "metadata": {},
   "outputs": [],
   "source": [
    "mean_before = df['BP Before'].mean()"
   ]
  },
  {
   "cell_type": "code",
   "execution_count": 14,
   "id": "abae346d-41d9-4a3e-8563-c6494f4b5c2d",
   "metadata": {},
   "outputs": [],
   "source": [
    "std_before = df['BP Before'].std()"
   ]
  },
  {
   "cell_type": "markdown",
   "id": "63dec639-5cc6-419d-af41-c7f33821e71a",
   "metadata": {},
   "source": [
    "- Since CI is given to be 5%, Assuming it is a two tailed test, there would be two intervals with 2.5% of area thatthat can be reject on either side\n",
    "\n",
    "- Z value (confidence interval) for P(0.025) will be +1.96 and -1.96 on either side of mean"
   ]
  },
  {
   "cell_type": "code",
   "execution_count": 15,
   "id": "71438661-097b-434b-a116-2a1de56dec67",
   "metadata": {},
   "outputs": [],
   "source": [
    "margin_of_error = 1.96 * std_before"
   ]
  },
  {
   "cell_type": "code",
   "execution_count": 16,
   "id": "b1fc09e1-39f1-4cbd-8164-5930701e1aab",
   "metadata": {},
   "outputs": [],
   "source": [
    "# Calculate the lower and upper bounds of the confidence interval:\n",
    "lower_bound = mean_before - margin_of_error\n",
    "upper_bound = mean_before + margin_of_error"
   ]
  },
  {
   "cell_type": "code",
   "execution_count": 17,
   "id": "69369d26-751a-4ad0-a4f1-8ff6425672a3",
   "metadata": {},
   "outputs": [
    {
     "name": "stdout",
     "output_type": "stream",
     "text": [
      "Mean: 133.91\n",
      "Confidence Interval (95%): [120.98, 146.84]\n"
     ]
    }
   ],
   "source": [
    "print(\"Mean: {:.2f}\".format(mean_before))\n",
    "print(\"Confidence Interval (95%): [{:.2f}, {:.2f}]\".format(lower_bound, upper_bound))"
   ]
  },
  {
   "cell_type": "code",
   "execution_count": 18,
   "id": "ed3a15b6-0224-411c-ad29-9945ac6017d0",
   "metadata": {},
   "outputs": [
    {
     "data": {
      "image/png": "[encoded data removed]",
      "text/plain": [
       "<Figure size 600x600 with 1 Axes>"
      ]
     },
     "metadata": {},
     "output_type": "display_data"
    }
   ],
   "source": [
    "# Plot the mean with error bars\n",
    "plt.figure(figsize=(6, 6))\n",
    "plt.bar(x='BP Before', height=mean_before, yerr=margin_of_error, capsize=4, color='skyblue')\n",
    "plt.xlabel('BP Before')\n",
    "plt.ylabel('Mean')\n",
    "plt.title('Mean and Confidence Interval of BP Before')\n",
    "plt.xticks(rotation=45)\n",
    "plt.tight_layout()\n",
    "plt.show()\n"
   ]
  },
  {
   "cell_type": "code",
   "execution_count": 19,
   "id": "7f76ef2d-e734-4ccd-8961-865c66cc53f3",
   "metadata": {},
   "outputs": [],
   "source": [
    "mean_after = df['BP After'].mean()"
   ]
  },
  {
   "cell_type": "code",
   "execution_count": 20,
   "id": "0d419178-3604-4ba4-9853-01cea2098b2c",
   "metadata": {},
   "outputs": [],
   "source": [
    "std_after = df['BP After'].std()"
   ]
  },
  {
   "cell_type": "markdown",
   "id": "e24f2b1c-7531-4245-99db-a9890ec4ffd4",
   "metadata": {},
   "source": [
    "- Since CI is given to be 5%, Assuming it is a two tailed test, there would be two intervals with 2.5% of area thatthat can be reject on either side\n",
    "\n",
    "- Z value (confidence interval) for P(0.025) will be +1.96 and -1.96 on either side of mean"
   ]
  },
  {
   "cell_type": "code",
   "execution_count": 21,
   "id": "35d9a78a-0ebf-487c-a081-4c0328aef835",
   "metadata": {},
   "outputs": [],
   "source": [
    "lower_bound = mean_after - margin_of_error\n",
    "upper_bound = mean_after + margin_of_error"
   ]
  },
  {
   "cell_type": "code",
   "execution_count": 22,
   "id": "705b4c43-5aa6-45db-8998-8337b5d34fb5",
   "metadata": {},
   "outputs": [
    {
     "name": "stdout",
     "output_type": "stream",
     "text": [
      "Mean: 128.36\n",
      "Confidence Interval (95%): [115.43, 141.29]\n"
     ]
    }
   ],
   "source": [
    "print(\"Mean: {:.2f}\".format(mean_after))\n",
    "print(\"Confidence Interval (95%): [{:.2f}, {:.2f}]\".format(lower_bound, upper_bound))"
   ]
  },
  {
   "cell_type": "code",
   "execution_count": 23,
   "id": "91250f37-f982-4527-bc50-6f867c2adf44",
   "metadata": {},
   "outputs": [
    {
     "data": {
      "image/png": "[encoded data removed]",
      "text/plain": [
       "<Figure size 600x600 with 1 Axes>"
      ]
     },
     "metadata": {},
     "output_type": "display_data"
    }
   ],
   "source": [
    "plt.figure(figsize=(6, 6))\n",
    "plt.bar(x='BP After', height=mean_after, yerr=margin_of_error, capsize=4, color='skyblue')\n",
    "plt.xlabel('BP After')\n",
    "plt.ylabel('Mean')\n",
    "plt.title('Mean and Confidence Interval of BP After')\n",
    "plt.xticks(rotation=45)\n",
    "plt.tight_layout()\n",
    "plt.show()\n"
   ]
  },
  {
   "cell_type": "markdown",
   "id": "56d40073-6431-45e2-9ddb-3299b6e38750",
   "metadata": {},
   "source": [
    "#### Sol 3.c: Calculate the Mean absolute deviation and Standard deviation and interpret the results."
   ]
  },
  {
   "cell_type": "code",
   "execution_count": 25,
   "id": "d999d924-c066-4864-8073-a372e2b7450f",
   "metadata": {},
   "outputs": [
    {
     "data": {
      "text/html": [
       "<div>\n",
       "<style scoped>\n",
       "    .dataframe tbody tr th:only-of-type {\n",
       "        vertical-align: middle;\n",
       "    }\n",
       "\n",
       "    .dataframe tbody tr th {\n",
       "        vertical-align: top;\n",
       "    }\n",
       "\n",
       "    .dataframe thead th {\n",
       "        text-align: right;\n",
       "    }\n",
       "</style>\n",
       "<table border=\"1\" class=\"dataframe\">\n",
       "  <thead>\n",
       "    <tr style=\"text-align: right;\">\n",
       "      <th></th>\n",
       "      <th>Patient ID</th>\n",
       "      <th>BP Before</th>\n",
       "      <th>BP After</th>\n",
       "    </tr>\n",
       "  </thead>\n",
       "  <tbody>\n",
       "    <tr>\n",
       "      <th>0</th>\n",
       "      <td>1</td>\n",
       "      <td>130</td>\n",
       "      <td>120</td>\n",
       "    </tr>\n",
       "    <tr>\n",
       "      <th>1</th>\n",
       "      <td>2</td>\n",
       "      <td>142</td>\n",
       "      <td>135</td>\n",
       "    </tr>\n",
       "    <tr>\n",
       "      <th>2</th>\n",
       "      <td>3</td>\n",
       "      <td>120</td>\n",
       "      <td>118</td>\n",
       "    </tr>\n",
       "    <tr>\n",
       "      <th>3</th>\n",
       "      <td>4</td>\n",
       "      <td>135</td>\n",
       "      <td>127</td>\n",
       "    </tr>\n",
       "    <tr>\n",
       "      <th>4</th>\n",
       "      <td>5</td>\n",
       "      <td>148</td>\n",
       "      <td>140</td>\n",
       "    </tr>\n",
       "  </tbody>\n",
       "</table>\n",
       "</div>"
      ],
      "text/plain": [
       "   Patient ID  BP Before  BP After\n",
       "0           1        130       120\n",
       "1           2        142       135\n",
       "2           3        120       118\n",
       "3           4        135       127\n",
       "4           5        148       140"
      ]
     },
     "execution_count": 25,
     "metadata": {},
     "output_type": "execute_result"
    }
   ],
   "source": [
    "df.head()"
   ]
  },
  {
   "cell_type": "code",
   "execution_count": 26,
   "id": "a1bc281e-7074-486e-a223-21c7c4235352",
   "metadata": {},
   "outputs": [
    {
     "data": {
      "text/plain": [
       "6.598278012275075"
      ]
     },
     "execution_count": 26,
     "metadata": {},
     "output_type": "execute_result"
    }
   ],
   "source": [
    "df['BP Before'].std()"
   ]
  },
  {
   "cell_type": "code",
   "execution_count": 28,
   "id": "ce46f82b-c40b-44d9-8d49-5dfd3b37639c",
   "metadata": {},
   "outputs": [
    {
     "name": "stdout",
     "output_type": "stream",
     "text": [
      "Mean Absolute Deviation (MAD) - Before: 4.08\n",
      "Mean Absolute Deviation (MAD) - After: 4.64\n",
      "Standard Deviation (SD) - Before: 5.0\n",
      "Standard Deviation (SD) - After: 5.95\n"
     ]
    }
   ],
   "source": [
    "import pandas as pd\n",
    "import numpy as np\n",
    "\n",
    "# Create a DataFrame with blood pressure data\n",
    "data = {'BP Before': [120, 130, 125, 115, 122],\n",
    "        'BP After': [118, 128, 123, 110, 120]}\n",
    "df = pd.DataFrame(data)\n",
    "\n",
    "# Calculate the mean absolute deviation (MAD)\n",
    "mad_before = np.mean(np.abs(df['BP Before'] - np.mean(df['BP Before'])))\n",
    "mad_after = np.mean(np.abs(df['BP After'] - np.mean(df['BP After'])))\n",
    "\n",
    "# Calculate the standard deviation (SD)\n",
    "sd_before = np.std(df['BP Before'])\n",
    "sd_after = np.std(df['BP After'])\n",
    "\n",
    "print(\"Mean Absolute Deviation (MAD) - Before:\", round(mad_before,2))\n",
    "print(\"Mean Absolute Deviation (MAD) - After:\", round(mad_after,2))\n",
    "print(\"Standard Deviation (SD) - Before:\", round(sd_before,2))\n",
    "print(\"Standard Deviation (SD) - After:\", round(sd_after,2))"
   ]
  },
  {
   "cell_type": "markdown",
   "id": "ffa822ac-1009-4094-ae96-99b87aeb8183",
   "metadata": {},
   "source": [
    "- From above results, it is clearly visible that blood pressure values after are more widely dispersed and have higher spread. Higher SD suggests that the blood pressure values before or after treatment are more scattered or dispersed around the mean value\n",
    "\n",
    "- Broader range or higher degree of fluctuation in blood pressure readings following therapy may indicate that the therapy had uneven effects on various people. But in the context, the therapy was able to reduce the maximum blood pressure and also minimize the lower end of the blood pressure. So overall effect of therapy was positive "
   ]
  },
  {
   "cell_type": "markdown",
   "id": "8dbc4d8c-c27f-4ff6-bae6-49c308a83391",
   "metadata": {},
   "source": [
    "#### Sol 3.d: Calculate the correlation coefficient and check the significance of it at 1% level of significance."
   ]
  },
  {
   "cell_type": "code",
   "execution_count": 29,
   "id": "7b21c1d5-4d15-4eeb-a0de-cc746c848ef6",
   "metadata": {},
   "outputs": [
    {
     "name": "stdout",
     "output_type": "stream",
     "text": [
      "Correlation Coefficient: 0.9907274331834235\n",
      "P-value: 0.0010703574562000984\n",
      "The correlation is statistically significant at the 1% level.\n"
     ]
    }
   ],
   "source": [
    "import pandas as pd\n",
    "from scipy.stats import pearsonr\n",
    "\n",
    "# Calculate the correlation coefficient and p-value\n",
    "correlation, p_value = pearsonr(df['BP Before'], df['BP After'])\n",
    "\n",
    "print(\"Correlation Coefficient:\", correlation)\n",
    "print(\"P-value:\", p_value) # significance of the correlation, indicating the probability of observing such a correlation by chance\n",
    "\n",
    "# Check the significance at the 1% level\n",
    "alpha = 0.01\n",
    "if p_value < alpha:\n",
    "    print(\"The correlation is statistically significant at the 1% level.\")\n",
    "else:\n",
    "    print(\"The correlation is not statistically significant at the 1% level.\")\n"
   ]
  },
  {
   "cell_type": "markdown",
   "id": "0f7c15c9-255d-46f8-b1fc-c9494a9cca71",
   "metadata": {},
   "source": [
    "#### Q-4. \n",
    "A group of 20 friends decide to play a game in which they each write a number\n",
    "between 1 and 20 on a slip of paper and put it into a hat. They then draw one slip of paper\n",
    "at random. What is the probability that the number on the slip of paper is a perfect square\n",
    "(i.e., 1, 4, 9, or 16)?"
   ]
  },
  {
   "cell_type": "markdown",
   "id": "ea930399-1f25-49b1-8c2f-0eb682c3ddfe",
   "metadata": {},
   "source": [
    "#### Sol 4:\n",
    "###### Case 1: Suppose one person writes distinct number (between 1 and 20) on the slip\n",
    "\n",
    "P(1,4,9,16) = 4 / 20\n",
    "Probability = 0.2 or 20%"
   ]
  },
  {
   "cell_type": "markdown",
   "id": "d42ad2d4-5f7f-4780-8ff8-821c5c9a7441",
   "metadata": {},
   "source": [
    "###### Case 2: Suppose number can be repeated again \n",
    "\n",
    "Assuming 1,4,9,16 comes a,b,c,d times respectively\n",
    "\n",
    "p(1) = a/20\n",
    "p(4) = b/20\n",
    "p(9) = c/20\n",
    "p(16) = d/20\n",
    "\n",
    "P(1,4,9,16) = (a+b+c+d)/20"
   ]
  },
  {
   "cell_type": "markdown",
   "id": "6bb8a482-00c2-45b2-b978-5ec894213d6d",
   "metadata": {},
   "source": [
    "### Q5 : \n",
    "A certain city has two taxi companies: Company A has 80% of the taxis and Company B has 20% of the taxis. Company A's taxis have a 95% success rate for picking up passengers on time, while Company B's taxis have a 90% success rate. If a randomly selected taxi is late, what is the probability that it belongs to Company A?"
   ]
  },
  {
   "cell_type": "markdown",
   "id": "7babd077-ad51-4544-a804-7e3df36f9fe4",
   "metadata": {},
   "source": [
    "### Sol 5:\n",
    "\n",
    "- A: Event that the taxi is from Company A\n",
    "- B: Event that the taxi is late\n",
    "\n",
    "We are asked to find the probability that the taxi belongs to Company A given that it is late, P(A|B).\n",
    "\n",
    "According to Bayes' theorem:\n",
    "\n",
    "P(A|B) = (P(B|A) * P(A)) / P(B)\n",
    "\n",
    "P(B|A) is the probability that the taxi is late given that it belongs to Company A. In this case, it is 1 - success rate, so P(B|A) = 1 - 0.95 = 0.05.\n",
    "\n",
    "P(A) is the probability that the randomly selected taxi belongs to Company A, which is given as 80% or 0.8.\n",
    "\n",
    "P(B) is the probability that a taxi is late. We can calculate it using the law of total probability:\n",
    "\n",
    "P(B) = P(B|A) * P(A) + P(B|not A) * P(not A)\n",
    "\n",
    "P(B|not A) is the probability that the taxi is late given that it does not belong to Company A. In this case, it is 1 - success rate for Company B, so P(B|not A) = 1 - 0.90 = 0.10.\n",
    "\n",
    "P(not A) is the probability that the randomly selected taxi does not belong to Company A, which is 1 - P(A) = 1 - 0.8 = 0.2.\n",
    "\n",
    "Now we can substitute these values into Bayes' theorem:\n",
    "\n",
    "P(A|B) = (0.05 * 0.8) / (0.05 * 0.8 + 0.10 * 0.2)\n",
    "= 0.04 / (0.04 + 0.02)\n",
    "= 0.04 / 0.06\n",
    "= 0.67"
   ]
  },
  {
   "cell_type": "markdown",
   "id": "27986b9f-f26a-45e6-bd19-140a4f1a94d8",
   "metadata": {},
   "source": [
    "### Q-6.\n",
    "A pharmaceutical company is developing a drug that is supposed to reduce blood pressure. They conduct a clinical trial with 100 patients and record their blood pressure before and after taking the drug. The company wants to know if the change in blood pressure follows a normal distribution."
   ]
  },
  {
   "cell_type": "code",
   "execution_count": 1,
   "id": "17f78874-75de-486d-97d5-aa595e57cd14",
   "metadata": {},
   "outputs": [],
   "source": [
    "import pandas as pd\n",
    "df = pd.read_csv('data.csv')"
   ]
  },
  {
   "cell_type": "code",
   "execution_count": 2,
   "id": "ffc81c78-982a-44ba-8b84-554ca3ec3b64",
   "metadata": {},
   "outputs": [
    {
     "data": {
      "text/html": [
       "<div>\n",
       "<style scoped>\n",
       "    .dataframe tbody tr th:only-of-type {\n",
       "        vertical-align: middle;\n",
       "    }\n",
       "\n",
       "    .dataframe tbody tr th {\n",
       "        vertical-align: top;\n",
       "    }\n",
       "\n",
       "    .dataframe thead th {\n",
       "        text-align: right;\n",
       "    }\n",
       "</style>\n",
       "<table border=\"1\" class=\"dataframe\">\n",
       "  <thead>\n",
       "    <tr style=\"text-align: right;\">\n",
       "      <th></th>\n",
       "      <th>Patient ID</th>\n",
       "      <th>Blood Pressure Before (mmHg)</th>\n",
       "      <th>Blood Pressure After (mmHg)</th>\n",
       "    </tr>\n",
       "  </thead>\n",
       "  <tbody>\n",
       "    <tr>\n",
       "      <th>0</th>\n",
       "      <td>1</td>\n",
       "      <td>130</td>\n",
       "      <td>120</td>\n",
       "    </tr>\n",
       "    <tr>\n",
       "      <th>1</th>\n",
       "      <td>2</td>\n",
       "      <td>142</td>\n",
       "      <td>135</td>\n",
       "    </tr>\n",
       "    <tr>\n",
       "      <th>2</th>\n",
       "      <td>3</td>\n",
       "      <td>120</td>\n",
       "      <td>118</td>\n",
       "    </tr>\n",
       "    <tr>\n",
       "      <th>3</th>\n",
       "      <td>4</td>\n",
       "      <td>135</td>\n",
       "      <td>127</td>\n",
       "    </tr>\n",
       "    <tr>\n",
       "      <th>4</th>\n",
       "      <td>5</td>\n",
       "      <td>148</td>\n",
       "      <td>140</td>\n",
       "    </tr>\n",
       "  </tbody>\n",
       "</table>\n",
       "</div>"
      ],
      "text/plain": [
       "   Patient ID   Blood Pressure Before (mmHg)   Blood Pressure After (mmHg)\n",
       "0           1                            130                           120\n",
       "1           2                            142                           135\n",
       "2           3                            120                           118\n",
       "3           4                            135                           127\n",
       "4           5                            148                           140"
      ]
     },
     "execution_count": 2,
     "metadata": {},
     "output_type": "execute_result"
    }
   ],
   "source": [
    "df.head()"
   ]
  },
  {
   "cell_type": "code",
   "execution_count": 3,
   "id": "95f08ab1-e402-4dd8-9312-6b390ed046d2",
   "metadata": {},
   "outputs": [],
   "source": [
    "df.rename(columns={' Blood Pressure Before (mmHg)': 'BP Before', ' Blood Pressure After (mmHg)': 'BP After'}, inplace=True)"
   ]
  },
  {
   "cell_type": "code",
   "execution_count": 7,
   "id": "0ddc8be1-c6b6-4b04-a8ba-9679b742ae5a",
   "metadata": {},
   "outputs": [
    {
     "name": "stderr",
     "output_type": "stream",
     "text": [
      "/tmp/ipykernel_239/1538697113.py:7: FutureWarning: \n",
      "\n",
      "`shade` is now deprecated in favor of `fill`; setting `fill=True`.\n",
      "This will become an error in seaborn v0.14.0; please update your code.\n",
      "\n",
      "  sns.kdeplot(data=df, x='BP Before', shade=True,ax=axes[0])\n",
      "/tmp/ipykernel_239/1538697113.py:10: FutureWarning: \n",
      "\n",
      "`shade` is now deprecated in favor of `fill`; setting `fill=True`.\n",
      "This will become an error in seaborn v0.14.0; please update your code.\n",
      "\n",
      "  sns.kdeplot(data=df, x='BP After',shade=True, ax=axes[1])\n"
     ]
    },
    {
     "data": {
      "image/png": "[encoded data removed]",
      "text/plain": [
       "<Figure size 1200x600 with 2 Axes>"
      ]
     },
     "metadata": {},
     "output_type": "display_data"
    }
   ],
   "source": [
    "import seaborn as sns\n",
    "import matplotlib.pyplot as plt\n",
    "\n",
    "fig, axes = plt.subplots(1, 2, figsize=(12, 6))\n",
    "\n",
    "axes[0].set_title('Blood Pressure Before')\n",
    "sns.kdeplot(data=df, x='BP Before', shade=True,ax=axes[0])\n",
    "\n",
    "axes[1].set_title('Blood Pressure After')\n",
    "sns.kdeplot(data=df, x='BP After',shade=True, ax=axes[1])\n",
    "\n",
    "fig.suptitle('Distribution of Blood Pressure Before and After', fontsize=16)\n",
    "plt.tight_layout()\n",
    "plt.show()"
   ]
  },
  {
   "cell_type": "markdown",
   "id": "6a37d969-658a-4c61-aa78-ef5f85855ac3",
   "metadata": {},
   "source": [
    "1. Checking q-q plot"
   ]
  },
  {
   "cell_type": "code",
   "execution_count": 4,
   "id": "e101ae55-a9b2-4f7a-bf22-898e5ae17e44",
   "metadata": {},
   "outputs": [
    {
     "data": {
      "image/png": "[encoded data removed]",
      "text/plain": [
       "<Figure size 800x600 with 1 Axes>"
      ]
     },
     "metadata": {},
     "output_type": "display_data"
    }
   ],
   "source": [
    "import numpy as np\n",
    "import matplotlib.pyplot as plt\n",
    "from scipy import stats\n",
    "\n",
    "# Sort your dataset in ascending order\n",
    "sorted_data = np.sort(df['BP Before'])\n",
    "\n",
    "# Generate theoretical quantiles for a normal distribution\n",
    "n = len(sorted_data)\n",
    "expected_quantiles = stats.norm.ppf(np.arange(1, n + 1) / (n + 1))\n",
    "\n",
    "# Plot the Q-Q plot\n",
    "plt.figure(figsize=(8, 6))\n",
    "plt.scatter(expected_quantiles, sorted_data, color='blue')\n",
    "plt.plot([np.min(expected_quantiles), np.max(expected_quantiles)],\n",
    "         [np.min(sorted_data), np.max(sorted_data)], color='red')\n",
    "plt.xlabel('Theoretical Quantiles')\n",
    "plt.ylabel('Sorted Data')\n",
    "plt.title('Q-Q Plot')\n",
    "plt.grid(True)\n",
    "plt.show()"
   ]
  },
  {
   "cell_type": "code",
   "execution_count": 5,
   "id": "4c9457b5-e261-47a0-ba29-75fa2992e4b7",
   "metadata": {},
   "outputs": [
    {
     "data": {
      "image/png": "[encoded data removed]",
      "text/plain": [
       "<Figure size 800x600 with 1 Axes>"
      ]
     },
     "metadata": {},
     "output_type": "display_data"
    }
   ],
   "source": [
    "sorted_data = np.sort(df['BP After'])\n",
    "\n",
    "# Generate theoretical quantiles for a normal distribution\n",
    "n = len(sorted_data)\n",
    "expected_quantiles = stats.norm.ppf(np.arange(1, n + 1) / (n + 1))\n",
    "\n",
    "# Plot the Q-Q plot\n",
    "plt.figure(figsize=(8, 6))\n",
    "plt.scatter(expected_quantiles, sorted_data, color='blue')\n",
    "plt.plot([np.min(expected_quantiles), np.max(expected_quantiles)],\n",
    "         [np.min(sorted_data), np.max(sorted_data)], color='red')\n",
    "plt.xlabel('Theoretical Quantiles')\n",
    "plt.ylabel('Sorted Data')\n",
    "plt.title('Q-Q Plot')\n",
    "plt.grid(True)\n",
    "plt.show()"
   ]
  },
  {
   "cell_type": "markdown",
   "id": "9a4a7982-6894-46c1-9519-bfda6fd1926c",
   "metadata": {},
   "source": [
    "- Both charts for after and before are slightly deviating from the straight line. But seem to be near the red line. Still not sure they are following normal distribution"
   ]
  },
  {
   "cell_type": "markdown",
   "id": "5ccd4b7a-7080-4739-811b-c10188727c11",
   "metadata": {},
   "source": [
    "2. Shapiro wilk test"
   ]
  },
  {
   "cell_type": "code",
   "execution_count": 6,
   "id": "b3802a72-281e-42f4-afa7-6f062eb62975",
   "metadata": {},
   "outputs": [
    {
     "name": "stdout",
     "output_type": "stream",
     "text": [
      "Shapiro-Wilk Test Results:\n",
      "Before: Test Statistic = 0.9573, p-value = 0.0026\n",
      "After: Test Statistic = 0.9401, p-value = 0.0002\n",
      "The change in blood pressure data does not follow a normal distribution.\n"
     ]
    }
   ],
   "source": [
    "import scipy.stats as stats\n",
    "\n",
    "# Assuming your dataframe is named 'df' with columns 'BP Before' and 'BP After'\n",
    "data_before = df['BP Before']\n",
    "data_after = df['BP After']\n",
    "\n",
    "# Perform Shapiro-Wilk test on the before data\n",
    "stat_before, p_value_before = stats.shapiro(data_before)\n",
    "\n",
    "# Perform Shapiro-Wilk test on the after data\n",
    "stat_after, p_value_after = stats.shapiro(data_after)\n",
    "\n",
    "# Interpret the results\n",
    "alpha = 0.05  # Significance level\n",
    "\n",
    "print(\"Shapiro-Wilk Test Results:\")\n",
    "print(f\"Before: Test Statistic = {stat_before:.4f}, p-value = {p_value_before:.4f}\")\n",
    "print(f\"After: Test Statistic = {stat_after:.4f}, p-value = {p_value_after:.4f}\")\n",
    "\n",
    "if p_value_before > alpha and p_value_after > alpha:\n",
    "    print(\"The change in blood pressure data follows a normal distribution.\")\n",
    "else:\n",
    "    print(\"The change in blood pressure data does not follow a normal distribution.\")\n"
   ]
  },
  {
   "cell_type": "markdown",
   "id": "c4b3b048-c1ac-4716-a216-061b5223adda",
   "metadata": {},
   "source": [
    "### Q-7\n",
    "\n",
    "The equations of two lines of regression, obtained in a correlation analysis\n",
    "between variables X and Y are as follows:\n",
    "\n",
    "and . 2X + 3Y − 8 = 0, 2Y + X − 5 = 0 The variance of X = 4 Find the\n",
    "- a. Variance of Y\n",
    "- b. Coefficient of determination of C and Y\n",
    "- c. Standard error of estimate of X on Y and of Y on X."
   ]
  },
  {
   "cell_type": "markdown",
   "id": "b78cd18f-a2e0-4749-b875-101b2c2a22e2",
   "metadata": {},
   "source": [
    "#### Sol 7\n",
    "X = -3/2(Y) + 4\n",
    "Y = -1/2(X) - 5/2\n",
    "\n",
    "1. Coefficient of determination\n",
    "\n",
    "- Mxy = -3/2 (Regression coefficient of X on Y)\n",
    "- Myx = -1/2 (Regression coefficient of Y on X)\n",
    "\n",
    "Mxy = r (Std(x)/Std(y))\n",
    "Myx = r (Std(y)/Std(x))\n",
    "\n",
    "r = (Mxy * Myx)^1/2\n",
    "\n",
    "r = - 0.866\n",
    "Since both coefficient are negative, r will be negative\n",
    "\n",
    "Coefficient of determination = -0.866\n",
    "\n",
    "\n",
    "2. Variance for Y\n",
    "\n",
    "Mxy = -3/2\n",
    "\n",
    "r (Std(x)/Std(y)) = -3/2\n",
    "\n",
    "Std(x) = 4\n",
    "\n",
    "Std(y) = -0.866 * 4/ -1.5 \n",
    "\n",
    "Std(y) = 2.31"
   ]
  },
  {
   "cell_type": "markdown",
   "id": "96f92615-737b-4420-93e6-d98567ee2400",
   "metadata": {},
   "source": [
    "c. Standard error of estimate of X on Y and of Y on X."
   ]
  },
  {
   "cell_type": "markdown",
   "id": "c43b54c5-cf89-401b-9b3a-a9ed2d71a574",
   "metadata": {},
   "source": [
    "#### Q-8. \n",
    "The anxiety levels of 10 participants were measured before and after a new therapy.\n",
    "The scores are not normally distributed. Use the Wilcoxon signed-rank test to test whether\n",
    "the therapy had a significant effect on anxiety levels. The data is given below: Participant\n",
    "Before therapy After therapy Difference"
   ]
  },
  {
   "cell_type": "code",
   "execution_count": 1,
   "id": "559be381-201b-4902-bf11-f8f005ee76fc",
   "metadata": {},
   "outputs": [],
   "source": [
    "import numpy as np\n",
    "import matplotlib.pyplot as plt\n",
    "import pandas as pd\n",
    "from scipy import stats\n",
    "\n",
    "data = {'Participants': [1,2,3,4,5,6,7,8,9,10],\n",
    "        'Before Therapy': [10, 8, 12, 15, 6, 9, 11, 7,14,10],\n",
    "       'After Therapy':[7,6,10,12,5,8,9,6,12,8],\n",
    "       'Difference':[-3,-2,-2,-3,-1,-1,-2,-1,-2,-2]}"
   ]
  },
  {
   "cell_type": "code",
   "execution_count": 2,
   "id": "21976ee7-9cab-46e1-a19a-dae087a2a593",
   "metadata": {},
   "outputs": [],
   "source": [
    "df = pd.DataFrame(data)"
   ]
  },
  {
   "cell_type": "code",
   "execution_count": 3,
   "id": "4eff19d2-4bcc-4aee-b299-3c6855d22965",
   "metadata": {},
   "outputs": [
    {
     "data": {
      "text/html": [
       "<div>\n",
       "<style scoped>\n",
       "    .dataframe tbody tr th:only-of-type {\n",
       "        vertical-align: middle;\n",
       "    }\n",
       "\n",
       "    .dataframe tbody tr th {\n",
       "        vertical-align: top;\n",
       "    }\n",
       "\n",
       "    .dataframe thead th {\n",
       "        text-align: right;\n",
       "    }\n",
       "</style>\n",
       "<table border=\"1\" class=\"dataframe\">\n",
       "  <thead>\n",
       "    <tr style=\"text-align: right;\">\n",
       "      <th></th>\n",
       "      <th>Participants</th>\n",
       "      <th>Before Therapy</th>\n",
       "      <th>After Therapy</th>\n",
       "      <th>Difference</th>\n",
       "    </tr>\n",
       "  </thead>\n",
       "  <tbody>\n",
       "    <tr>\n",
       "      <th>0</th>\n",
       "      <td>1</td>\n",
       "      <td>10</td>\n",
       "      <td>7</td>\n",
       "      <td>-3</td>\n",
       "    </tr>\n",
       "    <tr>\n",
       "      <th>1</th>\n",
       "      <td>2</td>\n",
       "      <td>8</td>\n",
       "      <td>6</td>\n",
       "      <td>-2</td>\n",
       "    </tr>\n",
       "    <tr>\n",
       "      <th>2</th>\n",
       "      <td>3</td>\n",
       "      <td>12</td>\n",
       "      <td>10</td>\n",
       "      <td>-2</td>\n",
       "    </tr>\n",
       "    <tr>\n",
       "      <th>3</th>\n",
       "      <td>4</td>\n",
       "      <td>15</td>\n",
       "      <td>12</td>\n",
       "      <td>-3</td>\n",
       "    </tr>\n",
       "    <tr>\n",
       "      <th>4</th>\n",
       "      <td>5</td>\n",
       "      <td>6</td>\n",
       "      <td>5</td>\n",
       "      <td>-1</td>\n",
       "    </tr>\n",
       "    <tr>\n",
       "      <th>5</th>\n",
       "      <td>6</td>\n",
       "      <td>9</td>\n",
       "      <td>8</td>\n",
       "      <td>-1</td>\n",
       "    </tr>\n",
       "    <tr>\n",
       "      <th>6</th>\n",
       "      <td>7</td>\n",
       "      <td>11</td>\n",
       "      <td>9</td>\n",
       "      <td>-2</td>\n",
       "    </tr>\n",
       "    <tr>\n",
       "      <th>7</th>\n",
       "      <td>8</td>\n",
       "      <td>7</td>\n",
       "      <td>6</td>\n",
       "      <td>-1</td>\n",
       "    </tr>\n",
       "    <tr>\n",
       "      <th>8</th>\n",
       "      <td>9</td>\n",
       "      <td>14</td>\n",
       "      <td>12</td>\n",
       "      <td>-2</td>\n",
       "    </tr>\n",
       "    <tr>\n",
       "      <th>9</th>\n",
       "      <td>10</td>\n",
       "      <td>10</td>\n",
       "      <td>8</td>\n",
       "      <td>-2</td>\n",
       "    </tr>\n",
       "  </tbody>\n",
       "</table>\n",
       "</div>"
      ],
      "text/plain": [
       "   Participants  Before Therapy  After Therapy  Difference\n",
       "0             1              10              7          -3\n",
       "1             2               8              6          -2\n",
       "2             3              12             10          -2\n",
       "3             4              15             12          -3\n",
       "4             5               6              5          -1\n",
       "5             6               9              8          -1\n",
       "6             7              11              9          -2\n",
       "7             8               7              6          -1\n",
       "8             9              14             12          -2\n",
       "9            10              10              8          -2"
      ]
     },
     "execution_count": 3,
     "metadata": {},
     "output_type": "execute_result"
    }
   ],
   "source": [
    "df"
   ]
  },
  {
   "cell_type": "code",
   "execution_count": 4,
   "id": "329c69d5-2d78-4acf-94ba-cc53e7cfed04",
   "metadata": {},
   "outputs": [
    {
     "name": "stderr",
     "output_type": "stream",
     "text": [
      "/tmp/ipykernel_77/674539330.py:7: FutureWarning: \n",
      "\n",
      "`shade` is now deprecated in favor of `fill`; setting `fill=True`.\n",
      "This will become an error in seaborn v0.14.0; please update your code.\n",
      "\n",
      "  sns.kdeplot(data=df, x='Before Therapy', shade=True,ax=axes[0])\n",
      "/tmp/ipykernel_77/674539330.py:10: FutureWarning: \n",
      "\n",
      "`shade` is now deprecated in favor of `fill`; setting `fill=True`.\n",
      "This will become an error in seaborn v0.14.0; please update your code.\n",
      "\n",
      "  sns.kdeplot(data=df, x='After Therapy',shade=True, ax=axes[1])\n"
     ]
    },
    {
     "data": {
      "image/png": "[encoded data removed]",
      "text/plain": [
       "<Figure size 1200x600 with 2 Axes>"
      ]
     },
     "metadata": {},
     "output_type": "display_data"
    }
   ],
   "source": [
    "import seaborn as sns\n",
    "import matplotlib.pyplot as plt\n",
    "\n",
    "fig, axes = plt.subplots(1, 2, figsize=(12, 6))\n",
    "\n",
    "axes[0].set_title('Before Therapy')\n",
    "sns.kdeplot(data=df, x='Before Therapy', shade=True,ax=axes[0])\n",
    "\n",
    "axes[1].set_title('After Therapy')\n",
    "sns.kdeplot(data=df, x='After Therapy',shade=True, ax=axes[1])\n",
    "\n",
    "fig.suptitle('Distribution of Before and After', fontsize=16)\n",
    "plt.tight_layout()\n",
    "plt.show()"
   ]
  },
  {
   "cell_type": "code",
   "execution_count": 5,
   "id": "33e8c9ef-102a-4f2f-88b5-238c46d3c2d8",
   "metadata": {},
   "outputs": [
    {
     "name": "stdout",
     "output_type": "stream",
     "text": [
      "Wilcoxon signed-rank test results:\n",
      "Statistic: 0.0\n",
      "p-value: 0.001953125\n",
      "The therapy had a significant effect on anxiety levels.\n"
     ]
    }
   ],
   "source": [
    "import scipy.stats as stats\n",
    "\n",
    "# Define the data\n",
    "before_therapy = [10, 8, 12, 15, 6, 9, 11, 7, 14, 10]\n",
    "after_therapy = [7, 6, 10, 12, 5, 8, 9, 6, 12, 8]\n",
    "differences = [-3, -2, -2, -3, -1, -1, -2, -1, -2, -2]\n",
    "\n",
    "# Perform the Wilcoxon signed-rank test\n",
    "statistic, p_value = stats.wilcoxon(differences)\n",
    "\n",
    "# Interpret the results\n",
    "alpha = 0.05  # Chosen significance level\n",
    "\n",
    "print(\"Wilcoxon signed-rank test results:\")\n",
    "print(f\"Statistic: {statistic}\")\n",
    "print(f\"p-value: {p_value}\")\n",
    "\n",
    "if p_value < alpha:\n",
    "    print(\"The therapy had a significant effect on anxiety levels.\")\n",
    "else:\n",
    "    print(\"The therapy did not have a significant effect on anxiety levels.\")\n"
   ]
  },
  {
   "cell_type": "markdown",
   "id": "288a406c-6bb9-482e-a2e3-869e08f1a4b8",
   "metadata": {},
   "source": [
    "### Q-9:\n",
    "Given the score of students in multiple exams\n",
    "\n",
    "Test the hypothesis that the mean scores of all the students are the same. If not, name the\n",
    "student with the highest score."
   ]
  },
  {
   "cell_type": "code",
   "execution_count": 6,
   "id": "451cf536-942d-49d4-a46b-f0446c4f14c1",
   "metadata": {},
   "outputs": [],
   "source": [
    "data = {'Name': ['Karan','Deepa','Karthik','Chandan','Jeevan'],\n",
    "        'Exam 1': [85,70,90,75,95],\n",
    "       'Exam 2':[90,80,85,70,92],\n",
    "       'Final Exam':[92,85,88,75,96]}"
   ]
  },
  {
   "cell_type": "code",
   "execution_count": 7,
   "id": "093aad1a-5632-4e96-920f-a9d8a6975a27",
   "metadata": {},
   "outputs": [],
   "source": [
    "student_df = pd.DataFrame(data)"
   ]
  },
  {
   "cell_type": "code",
   "execution_count": 8,
   "id": "4ed76039-bb84-4db1-9c67-1ebd34469f51",
   "metadata": {},
   "outputs": [
    {
     "data": {
      "text/html": [
       "<div>\n",
       "<style scoped>\n",
       "    .dataframe tbody tr th:only-of-type {\n",
       "        vertical-align: middle;\n",
       "    }\n",
       "\n",
       "    .dataframe tbody tr th {\n",
       "        vertical-align: top;\n",
       "    }\n",
       "\n",
       "    .dataframe thead th {\n",
       "        text-align: right;\n",
       "    }\n",
       "</style>\n",
       "<table border=\"1\" class=\"dataframe\">\n",
       "  <thead>\n",
       "    <tr style=\"text-align: right;\">\n",
       "      <th></th>\n",
       "      <th>Name</th>\n",
       "      <th>Exam 1</th>\n",
       "      <th>Exam 2</th>\n",
       "      <th>Final Exam</th>\n",
       "    </tr>\n",
       "  </thead>\n",
       "  <tbody>\n",
       "    <tr>\n",
       "      <th>0</th>\n",
       "      <td>Karan</td>\n",
       "      <td>85</td>\n",
       "      <td>90</td>\n",
       "      <td>92</td>\n",
       "    </tr>\n",
       "    <tr>\n",
       "      <th>1</th>\n",
       "      <td>Deepa</td>\n",
       "      <td>70</td>\n",
       "      <td>80</td>\n",
       "      <td>85</td>\n",
       "    </tr>\n",
       "    <tr>\n",
       "      <th>2</th>\n",
       "      <td>Karthik</td>\n",
       "      <td>90</td>\n",
       "      <td>85</td>\n",
       "      <td>88</td>\n",
       "    </tr>\n",
       "    <tr>\n",
       "      <th>3</th>\n",
       "      <td>Chandan</td>\n",
       "      <td>75</td>\n",
       "      <td>70</td>\n",
       "      <td>75</td>\n",
       "    </tr>\n",
       "    <tr>\n",
       "      <th>4</th>\n",
       "      <td>Jeevan</td>\n",
       "      <td>95</td>\n",
       "      <td>92</td>\n",
       "      <td>96</td>\n",
       "    </tr>\n",
       "  </tbody>\n",
       "</table>\n",
       "</div>"
      ],
      "text/plain": [
       "      Name  Exam 1  Exam 2  Final Exam\n",
       "0    Karan      85      90          92\n",
       "1    Deepa      70      80          85\n",
       "2  Karthik      90      85          88\n",
       "3  Chandan      75      70          75\n",
       "4   Jeevan      95      92          96"
      ]
     },
     "execution_count": 8,
     "metadata": {},
     "output_type": "execute_result"
    }
   ],
   "source": [
    "student_df"
   ]
  },
  {
   "cell_type": "code",
   "execution_count": 10,
   "id": "ada81e65-00ba-4614-81fb-e06a4926424a",
   "metadata": {},
   "outputs": [
    {
     "name": "stdout",
     "output_type": "stream",
     "text": [
      "p-value is 0.7295954253321559\n",
      "Fail to reject the null hypothesis. There is not enough evidence to suggest a significant difference in mean scores.\n"
     ]
    }
   ],
   "source": [
    "from scipy.stats import f_oneway\n",
    "\n",
    "\n",
    "# Perform ANOVA test\n",
    "p_value = f_oneway(student_df['Exam 1'], student_df['Exam 2'], student_df['Final Exam']).pvalue\n",
    "\n",
    "# Set the significance level (alpha)\n",
    "alpha = 0.05\n",
    "\n",
    "print(f'p-value is {p_value}')\n",
    "\n",
    "# Compare p-value with alpha\n",
    "if p_value < alpha:\n",
    "    print(\"Reject the null hypothesis. There is a significant difference in mean scores.\")\n",
    "else:\n",
    "    print(\"Fail to reject the null hypothesis. There is not enough evidence to suggest a significant difference in mean scores.\")\n"
   ]
  },
  {
   "cell_type": "markdown",
   "id": "1ff2c8df-6f2e-489d-b5cd-3559074cb1d3",
   "metadata": {},
   "source": [
    "### Q-10. \n",
    "A factory produces light bulbs, and the probability of a bulb being defective is 0.05.\n",
    "The factory produces a large batch of 500 light bulbs."
   ]
  },
  {
   "cell_type": "markdown",
   "id": "53888e41-c6f2-40a5-aebb-d4a948b44284",
   "metadata": {},
   "source": [
    "a. What is the probability that exactly 20 bulbs are defective?"
   ]
  },
  {
   "cell_type": "code",
   "execution_count": 14,
   "id": "e9a62584-4dee-4401-b80a-d4807cf467d5",
   "metadata": {},
   "outputs": [],
   "source": [
    "import math\n",
    "\n",
    "def binomial_pmf(n, r, p):\n",
    "    c = math.comb(n, r)\n",
    "    probability = c * (p ** r) * ((1 - p) ** (n - r))\n",
    "    return probability"
   ]
  },
  {
   "cell_type": "code",
   "execution_count": 16,
   "id": "cbec4160-e4f1-477d-84a3-4f4c67c947c8",
   "metadata": {},
   "outputs": [
    {
     "name": "stdout",
     "output_type": "stream",
     "text": [
      "Probability that exactly 20 bulbs are defective: 0.05161619253663997\n"
     ]
    }
   ],
   "source": [
    "exactly_20_defected = binomial_pmf(500,20,0.05)\n",
    "print(\"Probability that exactly 20 bulbs are defective:\", exactly_20_defected)"
   ]
  },
  {
   "cell_type": "markdown",
   "id": "1598a44d-0d7f-441e-b128-e30a00d25c6d",
   "metadata": {},
   "source": [
    "b. What is the probability that at least 10 bulbs are defective?"
   ]
  },
  {
   "cell_type": "code",
   "execution_count": 17,
   "id": "5336d4a4-da74-4e6f-991c-f40b7e8f9b18",
   "metadata": {},
   "outputs": [
    {
     "name": "stdout",
     "output_type": "stream",
     "text": [
      "Probability that at least 10 bulbs are defective: 0.9998871401858374\n"
     ]
    }
   ],
   "source": [
    "# atleast 10 defected means we need to find exactly 9 defected and subtract it from rest \n",
    "atleast_10_defected = 1 - binomial_pmf(500,9,0.05)\n",
    "print(\"Probability that at least 10 bulbs are defective:\", atleast_10_defected)"
   ]
  },
  {
   "cell_type": "markdown",
   "id": "65b47a7f-68e2-42cb-afdb-59123cbbdd09",
   "metadata": {},
   "source": [
    "c. What is the probability that at max 15 bulbs are defective?"
   ]
  },
  {
   "cell_type": "code",
   "execution_count": 20,
   "id": "fc6b6e2a-13e9-4882-a155-3d43ec7e4524",
   "metadata": {},
   "outputs": [
    {
     "name": "stdout",
     "output_type": "stream",
     "text": [
      "Probability that at max 15 bulbs are defective: 0.009045917666717843\n"
     ]
    }
   ],
   "source": [
    "atmost_15_defected = binomial_pmf(500,15,0.05)\n",
    "print(\"Probability that at max 15 bulbs are defective:\", atmost_15_defected)"
   ]
  },
  {
   "cell_type": "markdown",
   "id": "3dfaeacf-3de0-4ab1-afd1-a4f73221a501",
   "metadata": {},
   "source": [
    "d. On average, how many defective bulbs would you expect in a batch of 500?"
   ]
  },
  {
   "cell_type": "code",
   "execution_count": 22,
   "id": "af6c6140-7f33-4ca3-812d-9a0ed5fe9031",
   "metadata": {},
   "outputs": [
    {
     "name": "stdout",
     "output_type": "stream",
     "text": [
      "Average number of defective bulbs in a batch of 500: 25.0\n"
     ]
    }
   ],
   "source": [
    "n = 500\n",
    "p = 0.05\n",
    "\n",
    "average_defective_bulbs = n * p\n",
    "print(\"Average number of defective bulbs in a batch of 500:\", average_defective_bulbs)\n"
   ]
  },
  {
   "cell_type": "markdown",
   "id": "a0d201bc-1177-402c-8e5b-a7e72a4bf889",
   "metadata": {},
   "source": [
    "#### Q-11. \n",
    "\n",
    "Given the data of a feature contributing to different classes"
   ]
  },
  {
   "cell_type": "code",
   "execution_count": 24,
   "id": "cb6cc574-2d31-433d-8a34-63ffdb93eed9",
   "metadata": {},
   "outputs": [],
   "source": [
    "data = pd.read_csv('data.csv')"
   ]
  },
  {
   "cell_type": "code",
   "execution_count": 26,
   "id": "eb1bae8d-f3bd-495a-ac74-ffee009c731d",
   "metadata": {},
   "outputs": [
    {
     "data": {
      "text/html": [
       "<div>\n",
       "<style scoped>\n",
       "    .dataframe tbody tr th:only-of-type {\n",
       "        vertical-align: middle;\n",
       "    }\n",
       "\n",
       "    .dataframe tbody tr th {\n",
       "        vertical-align: top;\n",
       "    }\n",
       "\n",
       "    .dataframe thead th {\n",
       "        text-align: right;\n",
       "    }\n",
       "</style>\n",
       "<table border=\"1\" class=\"dataframe\">\n",
       "  <thead>\n",
       "    <tr style=\"text-align: right;\">\n",
       "      <th></th>\n",
       "      <th>Patient ID</th>\n",
       "      <th>Blood Pressure Before (mmHg)</th>\n",
       "      <th>Blood Pressure After (mmHg)</th>\n",
       "    </tr>\n",
       "  </thead>\n",
       "  <tbody>\n",
       "    <tr>\n",
       "      <th>0</th>\n",
       "      <td>1</td>\n",
       "      <td>130</td>\n",
       "      <td>120</td>\n",
       "    </tr>\n",
       "    <tr>\n",
       "      <th>1</th>\n",
       "      <td>2</td>\n",
       "      <td>142</td>\n",
       "      <td>135</td>\n",
       "    </tr>\n",
       "    <tr>\n",
       "      <th>2</th>\n",
       "      <td>3</td>\n",
       "      <td>120</td>\n",
       "      <td>118</td>\n",
       "    </tr>\n",
       "    <tr>\n",
       "      <th>3</th>\n",
       "      <td>4</td>\n",
       "      <td>135</td>\n",
       "      <td>127</td>\n",
       "    </tr>\n",
       "    <tr>\n",
       "      <th>4</th>\n",
       "      <td>5</td>\n",
       "      <td>148</td>\n",
       "      <td>140</td>\n",
       "    </tr>\n",
       "  </tbody>\n",
       "</table>\n",
       "</div>"
      ],
      "text/plain": [
       "   Patient ID   Blood Pressure Before (mmHg)   Blood Pressure After (mmHg)\n",
       "0           1                            130                           120\n",
       "1           2                            142                           135\n",
       "2           3                            120                           118\n",
       "3           4                            135                           127\n",
       "4           5                            148                           140"
      ]
     },
     "execution_count": 26,
     "metadata": {},
     "output_type": "execute_result"
    }
   ],
   "source": [
    "data.head()"
   ]
  },
  {
   "cell_type": "code",
   "execution_count": 28,
   "id": "238a70c8-92e3-4952-af35-04ebae99295f",
   "metadata": {},
   "outputs": [],
   "source": [
    "data.rename(columns={' Blood Pressure Before (mmHg)': 'BP Before', ' Blood Pressure After (mmHg)': 'BP After'}, inplace=True)"
   ]
  },
  {
   "cell_type": "markdown",
   "id": "3c512a74-10c7-4366-a680-e10ac1639a51",
   "metadata": {},
   "source": [
    "a. Check whether the distribution of all the classes are the same or not."
   ]
  },
  {
   "cell_type": "code",
   "execution_count": 30,
   "id": "41e03b17-cff5-4176-aaa3-c78f65ee2f22",
   "metadata": {},
   "outputs": [
    {
     "name": "stdout",
     "output_type": "stream",
     "text": [
      "The distribution of classes (before and after) is significantly different.\n"
     ]
    }
   ],
   "source": [
    "# Since we need to compare two distributions, we can use Kolmogrov Smirnov Test\n",
    "\n",
    "ks_stat, p_value = stats.ks_2samp(data['BP Before'], data['BP After'])\n",
    "if p_value < 0.05:\n",
    "    print(\"The distribution of classes (before and after) is significantly different.\")\n",
    "else:\n",
    "    print(\"The distribution of classes (before and after) is not significantly different.\")"
   ]
  },
  {
   "cell_type": "markdown",
   "id": "9914c7e1-fe90-41ba-a692-f826ad12cbf4",
   "metadata": {},
   "source": [
    "b. Check for the equality of variance"
   ]
  },
  {
   "cell_type": "code",
   "execution_count": 32,
   "id": "ab0c743f-5539-4d5d-80e0-9c1e1eecea5c",
   "metadata": {},
   "outputs": [
    {
     "name": "stdout",
     "output_type": "stream",
     "text": [
      "The variances of the two groups are not significantly different.\n"
     ]
    }
   ],
   "source": [
    "levene_stat, p_value = stats.levene(data['BP Before'], data['BP After'])\n",
    "if p_value < 0.05:\n",
    "    print(\"The variances of the two groups are significantly different.\")\n",
    "else:\n",
    "    print(\"The variances of the two groups are not significantly different.\")"
   ]
  },
  {
   "cell_type": "markdown",
   "id": "b4614526-ccb7-45ed-a726-74308e3b7e88",
   "metadata": {},
   "source": [
    "c. Which amount LDA and QDA would perform better on this data for\n",
    "classification and why."
   ]
  },
  {
   "cell_type": "code",
   "execution_count": 33,
   "id": "02a27afc-ac6c-4b95-ad2e-e8e937772aae",
   "metadata": {},
   "outputs": [
    {
     "name": "stdout",
     "output_type": "stream",
     "text": [
      "At least one group does not pass the normality assumption.\n",
      "QDA may be more appropriate when normality assumption is not met.\n"
     ]
    }
   ],
   "source": [
    "# LDA assumes equal covariance matrices and normally distributed predictors\n",
    "# QDA relaxes the equal covariance matrices assumption\n",
    "# Here, we'll assess the normality assumption using Shapiro-Wilk test\n",
    "\n",
    "shapiro_stat_before, p_value_before = stats.shapiro(data['BP Before'])\n",
    "shapiro_stat_after, p_value_after = stats.shapiro(data['BP After'])\n",
    "if p_value_before > 0.05 and p_value_after > 0.05:\n",
    "    print(\"Both groups pass the normality assumption.\")\n",
    "    print(\"LDA may perform better due to its assumption of equal covariance matrices.\")\n",
    "else:\n",
    "    print(\"At least one group does not pass the normality assumption.\")\n",
    "    print(\"QDA may be more appropriate when normality assumption is not met.\")"
   ]
  },
  {
   "cell_type": "markdown",
   "id": "168dff82-8971-48cd-b364-af7bc405b9db",
   "metadata": {},
   "source": [
    "d. Check the equality of mean between all the classes"
   ]
  },
  {
   "cell_type": "code",
   "execution_count": 38,
   "id": "fdf5c2da-171c-4c9f-a1a4-0abb3db097f7",
   "metadata": {},
   "outputs": [
    {
     "name": "stdout",
     "output_type": "stream",
     "text": [
      "There is a significant difference in means between the two groups.\n"
     ]
    }
   ],
   "source": [
    "# For checking mean equality of two distributions we can apply t-tests\n",
    "\n",
    "t_stat, p_value = stats.ttest_ind(data['BP Before'], data['BP After'])\n",
    "if p_value < 0.05:\n",
    "    print(\"There is a significant difference in means between the two groups.\")\n",
    "else:\n",
    "    print(\"There is no significant difference in means between the two groups.\")"
   ]
  },
  {
   "cell_type": "markdown",
   "id": "a58b414f-b872-4e93-85a3-de059a9c0813",
   "metadata": {},
   "source": [
    "### Q-12\n",
    "\n",
    "A pharmaceutical company develops a new drug and wants to compare its\n",
    "effectiveness against a standard drug for treating a particular condition. They conduct a\n",
    "study with two groups: Group A receives the new drug, and Group B receives the standard\n",
    "drug. The company measures the improvement in a specific symptom for both groups after\n",
    "a 4-week treatment period."
   ]
  },
  {
   "cell_type": "markdown",
   "id": "ba695722-6629-4106-b35b-c5f9a9fc5442",
   "metadata": {},
   "source": [
    "a. The company collects data from 30 patients in each group and calculates the\n",
    "mean improvement score and the standard deviation of improvement for each\n",
    "group. The mean improvement score for Group A is 2.5 with a standard\n",
    "deviation of 0.8, while the mean improvement score for Group B is 2.2 with a\n",
    "standard deviation of 0.6. Conduct a t-test to determine if there is a significant\n",
    "difference in the mean improvement scores between the two groups. Use a\n",
    "significance level of 0.05."
   ]
  },
  {
   "cell_type": "code",
   "execution_count": 40,
   "id": "6a67d42c-aedb-43dc-b0db-db8ca4e90568",
   "metadata": {},
   "outputs": [
    {
     "name": "stdout",
     "output_type": "stream",
     "text": [
      "t-statistic: 1.6431676725154976\n",
      "p-value: 0.10575916705583671\n"
     ]
    }
   ],
   "source": [
    "mean_a = 2.5\n",
    "std_a = 0.8\n",
    "n_a = 30\n",
    "\n",
    "mean_b = 2.2\n",
    "std_b = 0.6\n",
    "n_b = 30\n",
    "\n",
    "# Conducting a two-sample independent t-test\n",
    "t_stat, p_value = stats.ttest_ind_from_stats(mean_a, std_a, n_a, mean_b, std_b, n_b)\n",
    "\n",
    "print(\"t-statistic:\", t_stat)\n",
    "print(\"p-value:\", p_value)"
   ]
  },
  {
   "cell_type": "raw",
   "id": "85d0aaa3-12c3-4f11-8208-205f1b531347",
   "metadata": {},
   "source": [
    "b. Interpret the results and make a conclusion:"
   ]
  },
  {
   "cell_type": "code",
   "execution_count": 41,
   "id": "456c06f1-aac9-464d-a8a9-5abae010f386",
   "metadata": {},
   "outputs": [
    {
     "name": "stdout",
     "output_type": "stream",
     "text": [
      "Fail to reject the null hypothesis.\n",
      "There is no significant difference in the mean improvement scores between Group A and Group B.\n"
     ]
    }
   ],
   "source": [
    "alpha = 0.05\n",
    "\n",
    "if p_value < alpha:\n",
    "    print(\"Reject the null hypothesis.\")\n",
    "    print(\"There is a significant difference in the mean improvement scores between Group A and Group B.\")\n",
    "else:\n",
    "    print(\"Fail to reject the null hypothesis.\")\n",
    "    print(\"There is no significant difference in the mean improvement scores between Group A and Group B.\")"
   ]
  },
  {
   "cell_type": "code",
   "execution_count": null,
   "id": "20b4ce05-c9ce-4669-b350-62d94262382b",
   "metadata": {},
   "outputs": [],
   "source": []
  }
 ],
 "metadata": {
  "kernelspec": {
   "display_name": "Python 3 (ipykernel)",
   "language": "python",
   "name": "python3"
  },
  "language_info": {
   "codemirror_mode": {
    "name": "ipython",
    "version": 3
   },
   "file_extension": ".py",
   "mimetype": "text/x-python",
   "name": "python",
   "nbconvert_exporter": "python",
   "pygments_lexer": "ipython3",
   "version": "3.10.6"
  }
 },
 "nbformat": 4,
 "nbformat_minor": 5
}
